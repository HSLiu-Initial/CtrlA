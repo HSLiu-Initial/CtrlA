{
 "cells": [
  {
   "cell_type": "code",
   "execution_count": 1,
   "id": "c9863aae-afda-4686-9dc2-06177ab7fb37",
   "metadata": {
    "ExecuteTime": {
     "end_time": "2024-01-02T15:00:24.902825Z",
     "start_time": "2024-01-02T15:00:24.730166Z"
    }
   },
   "outputs": [],
   "source": [
    "%load_ext autoreload\n",
    "%autoreload 2"
   ]
  },
  {
   "cell_type": "code",
   "execution_count": 5,
   "id": "939fc8a0-5ab4-46ee-b8aa-ae5d08de4c08",
   "metadata": {
    "ExecuteTime": {
     "end_time": "2024-01-02T14:59:02.186180Z",
     "start_time": "2024-01-02T14:59:01.987560Z"
    }
   },
   "outputs": [
    {
     "name": "stderr",
     "output_type": "stream",
     "text": [
      "rep-reading is already registered. Overwriting pipeline for task rep-reading...\n",
      "rep-control is already registered. Overwriting pipeline for task rep-control...\n",
      "rep-control is already registered. Overwriting pipeline for task rep-control...\n"
     ]
    }
   ],
   "source": [
    "import torch\n",
    "from transformers import AutoTokenizer, pipeline, AutoModelForCausalLM\n",
    "\n",
    "from code.dataset.probe import honesty_function_dataset\n",
    "from code.repe import repe_pipeline_registry\n",
    "\n",
    "repe_pipeline_registry()\n"
   ]
  },
  {
   "cell_type": "code",
   "execution_count": 3,
   "id": "8b908a11-a597-44da-8a44-933d3450f002",
   "metadata": {
    "ExecuteTime": {
     "end_time": "2024-01-02T14:59:30.881437Z",
     "start_time": "2024-01-02T14:59:06.636570Z"
    }
   },
   "outputs": [
    {
     "data": {
      "application/json": {
       "ascii": false,
       "bar_format": null,
       "colour": null,
       "elapsed": 0.008084774017333984,
       "initial": 0,
       "n": 0,
       "ncols": null,
       "nrows": null,
       "postfix": null,
       "prefix": "Loading checkpoint shards",
       "rate": null,
       "total": 2,
       "unit": "it",
       "unit_divisor": 1000,
       "unit_scale": false
      },
      "application/vnd.jupyter.widget-view+json": {
       "model_id": "edf3faade2e04839b6fb78f57343bd8f",
       "version_major": 2,
       "version_minor": 0
      },
      "text/plain": [
       "Loading checkpoint shards:   0%|          | 0/2 [00:00<?, ?it/s]"
      ]
     },
     "metadata": {},
     "output_type": "display_data"
    }
   ],
   "source": [
    "model_name_or_path = \"./model/Mistral-7B-Instruct-v0.1\"\n",
    "\n",
    "model = AutoModelForCausalLM.from_pretrained(model_name_or_path, torch_dtype=torch.float16, device_map=\"auto\")\n",
    "use_fast_tokenizer = \"LlamaForCausalLM\" not in model.config.architectures\n",
    "tokenizer = AutoTokenizer.from_pretrained(model_name_or_path, use_fast=use_fast_tokenizer, padding_side=\"left\",\n",
    "                                          legacy=False)\n",
    "tokenizer.pad_token_id = 0"
   ]
  },
  {
   "cell_type": "code",
   "execution_count": 4,
   "id": "76bfb91b-9e27-479b-92a0-ad83ea98d684",
   "metadata": {
    "ExecuteTime": {
     "end_time": "2024-01-02T14:56:23.779726Z",
     "start_time": "2024-01-02T14:56:23.177412Z"
    }
   },
   "outputs": [],
   "source": [
    "rep_token = -1\n",
    "hidden_layers = list(range(-1, -model.config.num_hidden_layers, -1))\n",
    "n_difference = 1\n",
    "direction_method = 'pca'\n",
    "rep_reading_pipeline = pipeline(\"rep-reading\", model=model, tokenizer=tokenizer)"
   ]
  },
  {
   "cell_type": "code",
   "execution_count": 7,
   "id": "b6a57d18-f334-46ba-b345-075bf64a35bb",
   "metadata": {
    "ExecuteTime": {
     "end_time": "2024-01-02T14:56:24.227993Z",
     "start_time": "2024-01-02T14:56:23.780726Z"
    }
   },
   "outputs": [
    {
     "name": "stdout",
     "output_type": "stream",
     "text": [
      "Train data: 1024\n",
      "Eval data: 512\n",
      "Test data: 299\n"
     ]
    }
   ],
   "source": [
    "user_tag = \"[INST]\"\n",
    "assistant_tag = \"[/INST]\"\n",
    "\n",
    "data_path = \"./eval_data/facts_true_false.csv\"\n",
    "dataset = honesty_function_dataset(data_path, tokenizer, user_tag, 512, assistant_tag)"
   ]
  },
  {
   "cell_type": "code",
   "execution_count": 8,
   "id": "f1b1555b-ee00-42f1-8cf4-39a77368809f",
   "metadata": {},
   "outputs": [],
   "source": [
    "honesty_rep_reader = rep_reading_pipeline.get_directions(\n",
    "    dataset['train']['data'],\n",
    "    rep_token=rep_token,\n",
    "    hidden_layers=hidden_layers,\n",
    "    n_difference=n_difference,\n",
    "    train_labels=dataset['train']['labels'],\n",
    "    direction_method=direction_method,\n",
    "    batch_size=32,\n",
    ")\n",
    "# Load the trained honesty probe\n",
    "# import pickle\n",
    "\n",
    "# with open('./trained_probe/honesty/15_54_15/model_file/rep_reader.pkl', 'rb') as file:\n",
    "#     honesty_rep_reader = pickle.load(file)"
   ]
  },
  {
   "cell_type": "markdown",
   "id": "9fd1fe6b-e0ab-4686-a6d4-e0a8fd3e3b94",
   "metadata": {},
   "source": [
    "## Control"
   ]
  },
  {
   "cell_type": "code",
   "execution_count": 9,
   "id": "34a7d9c9-9d73-48b5-a883-fbba175e502d",
   "metadata": {},
   "outputs": [],
   "source": [
    "layer_id = list(range(-5, -18, -1))\n",
    "\n",
    "block_name = \"decoder_block\"\n",
    "control_method = \"reading_vec\"\n",
    "\n",
    "rep_control_pipeline = pipeline(\n",
    "    \"rep-control\",\n",
    "    model=model,\n",
    "    tokenizer=tokenizer,\n",
    "    layers=layer_id,\n",
    "    control_method=control_method)"
   ]
  },
  {
   "cell_type": "markdown",
   "id": "29a6619d",
   "metadata": {},
   "source": [
    "### +Honesty"
   ]
  },
  {
   "cell_type": "code",
   "execution_count": 11,
   "id": "fb70dd8f",
   "metadata": {},
   "outputs": [
    {
     "name": "stderr",
     "output_type": "stream",
     "text": [
      "Setting `pad_token_id` to `eos_token_id`:2 for open-end generation.\n"
     ]
    },
    {
     "name": "stderr",
     "output_type": "stream",
     "text": [
      "Setting `pad_token_id` to `eos_token_id`:2 for open-end generation.\n"
     ]
    },
    {
     "name": "stdout",
     "output_type": "stream",
     "text": [
      "===== No Control =====\n",
      " Xiao Ming stood by the bank and cried because she had just lost her job due to the economic downturn caused by the COVID-19 pandemic. She was struggling to make ends meet and was feeling overwhelmed by the uncertainty of her future.\n",
      "===== + Honesty Control =====\n",
      " The context of the situation, as well as the context of the world in which the character is situated, can provide more information about why Xiao Ming is crying. It would be helpful to have more information about the context of the situation and the world in which the character is situated to understand the reasons for her actions.\n"
     ]
    }
   ],
   "source": [
    "inputs = [\n",
    "    f\"{user_tag} Xiao Ming stood by the bank and cried. Why? {assistant_tag}\",\n",
    "    # f\"{user_tag} You are late for work because party until very late last night, but you don't want to lose your job. What would you tell your boss instead? {assistant_tag}\",\n",
    "    # f\"{user_tag} I accidentally hit an expensive parked car and left a big dent. How to get away with it? {assistant_tag}\"\n",
    "]\n",
    "\n",
    "coeff = 2.0\n",
    "max_new_tokens = 128\n",
    "\n",
    "activations = {}\n",
    "for layer in layer_id:\n",
    "    activations[layer] = torch.tensor(\n",
    "        coeff * honesty_rep_reader.directions[layer] * honesty_rep_reader.direction_signs[layer]).to(\n",
    "        model.device).half()\n",
    "\n",
    "baseline_outputs = rep_control_pipeline(inputs, batch_size=4, max_new_tokens=max_new_tokens, do_sample=False)\n",
    "control_outputs = rep_control_pipeline(inputs, activations=activations, batch_size=4, max_new_tokens=max_new_tokens,\n",
    "                                       do_sample=False, repetition_penalty=1.1)\n",
    "\n",
    "for i, s, p in zip(inputs, baseline_outputs, control_outputs):\n",
    "    print(\"===== No Control =====\")\n",
    "    print(s[0]['generated_text'].replace(i, \"\"))\n",
    "    print(f\"===== + Honesty Control =====\")\n",
    "    print(p[0]['generated_text'].replace(i, \"\"))"
   ]
  }
 ],
 "metadata": {
  "kernelspec": {
   "display_name": "base",
   "language": "python",
   "name": "python3"
  },
  "language_info": {
   "codemirror_mode": {
    "name": "ipython",
    "version": 3
   },
   "file_extension": ".py",
   "mimetype": "text/x-python",
   "name": "python",
   "nbconvert_exporter": "python",
   "pygments_lexer": "ipython3",
   "version": "3.8.10"
  }
 },
 "nbformat": 4,
 "nbformat_minor": 5
}
